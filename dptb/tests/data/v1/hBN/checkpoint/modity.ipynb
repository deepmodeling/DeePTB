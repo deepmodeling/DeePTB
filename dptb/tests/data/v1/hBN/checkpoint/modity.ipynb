{
 "cells": [
  {
   "cell_type": "code",
   "execution_count": 29,
   "metadata": {},
   "outputs": [],
   "source": [
    "import torch\n",
    "\n",
    "f = torch.load(\"best_dptb.pth\")"
   ]
  },
  {
   "cell_type": "code",
   "execution_count": 32,
   "metadata": {},
   "outputs": [
    {
     "data": {
      "text/plain": [
       "'tanh'"
      ]
     },
     "execution_count": 32,
     "metadata": {},
     "output_type": "execute_result"
    }
   ],
   "source": [
    "f[\"model_config\"][\"dptb\"][\"hopping_net_neuron\"] = f[\"model_config\"][\"dptb\"][\"bond_net_neuron\"]\n",
    "f[\"model_config\"][\"dptb\"][\"hopping_net_type\"] = f[\"model_config\"][\"dptb\"][\"bond_net_type\"]\n",
    "f[\"model_config\"][\"dptb\"][\"hopping_net_activation\"] = f[\"model_config\"][\"dptb\"][\"bond_net_activation\"]\n",
    "f[\"model_config\"][\"dptb\"].pop(\"bond_net_neuron\")\n",
    "f[\"model_config\"][\"dptb\"].pop(\"bond_net_type\")\n",
    "f[\"model_config\"][\"dptb\"].pop(\"bond_net_activation\")"
   ]
  },
  {
   "cell_type": "code",
   "execution_count": 33,
   "metadata": {},
   "outputs": [],
   "source": [
    "from collections import OrderedDict\n",
    "msd = OrderedDict({})\n",
    "for k in f[\"model_state_dict\"].keys():\n",
    "    if \"bond\" in k:\n",
    "        nk = k.replace(\"bond\", \"hopping\")\n",
    "    else:\n",
    "        nk = k\n",
    "    msd[nk] = f[\"model_state_dict\"][k]\n",
    "f[\"model_state_dict\"] = msd"
   ]
  },
  {
   "cell_type": "code",
   "execution_count": 34,
   "metadata": {},
   "outputs": [],
   "source": [
    "f = torch.save(f, \"best_dptb.pth\")"
   ]
  }
 ],
 "metadata": {
  "kernelspec": {
   "display_name": "deeptb",
   "language": "python",
   "name": "python3"
  },
  "language_info": {
   "codemirror_mode": {
    "name": "ipython",
    "version": 3
   },
   "file_extension": ".py",
   "mimetype": "text/x-python",
   "name": "python",
   "nbconvert_exporter": "python",
   "pygments_lexer": "ipython3",
   "version": "3.8.13"
  },
  "orig_nbformat": 4,
  "vscode": {
   "interpreter": {
    "hash": "773d06224fda6a308d1281733d5420f05fa98af027be7051fc513b565149e13a"
   }
  }
 },
 "nbformat": 4,
 "nbformat_minor": 2
}
