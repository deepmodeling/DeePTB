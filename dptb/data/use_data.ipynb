{
 "cells": [
  {
   "cell_type": "code",
   "execution_count": 1,
   "metadata": {},
   "outputs": [],
   "source": [
    "from _build import dataset_from_config\n",
    "from dptb.utils.config import Config"
   ]
  },
  {
   "cell_type": "code",
   "execution_count": 2,
   "metadata": {},
   "outputs": [],
   "source": [
    "config = {\n",
    "    \"root\": \"/root/nequip_data/\",\n",
    "    \"dataset\": \"npz\",\n",
    "    \"dataset_file_name\": \"/root/nequip_data/toluene_ccsd_t-train.npz\",\n",
    "    \"key_mapping\": {\n",
    "        \"z\": \"atomic_numbers\",\n",
    "        \"E\": \"total_energy\",\n",
    "        \"F\": \"forces\",\n",
    "        \"R\": \"pos\"\n",
    "    },\n",
    "    \"npz_fixed_field_keys\": [\"atomic_numbers\"],\n",
    "    \"chemical_symbols\": [\"H\", \"C\"],\n",
    "\n",
    "    \"r_max\": 4.0,\n",
    "    \n",
    "}\n",
    "\n",
    "config = Config(config=config)\n",
    "# dataset: npz                                                                       # type of data set, can be npz or ase\n",
    "# dataset_url: http://quantum-machine.org/gdml/data/npz/toluene_ccsd_t.zip           # url to download the npz. optional\n",
    "# dataset_file_name: ./benchmark_data/toluene_ccsd_t-train.npz                       # path to data set file\n",
    "# key_mapping:\n",
    "#   z: atomic_numbers                                                                # atomic species, integers\n",
    "#   E: total_energy                                                                  # total potential eneriges to train to\n",
    "#   F: forces                                                                        # atomic forces to train to\n",
    "#   R: pos                                                                           # raw atomic positions\n",
    "# npz_fixed_field_keys:                                                              # fields that are repeated across different examples\n",
    "#   - atomic_numbers\n",
    "\n",
    "# chemical_symbols:\n",
    "#   - H\n",
    "#   - C"
   ]
  },
  {
   "cell_type": "code",
   "execution_count": 3,
   "metadata": {},
   "outputs": [
    {
     "name": "stderr",
     "output_type": "stream",
     "text": [
      "Processing dataset...\n",
      "Done!\n"
     ]
    }
   ],
   "source": [
    "dataset = dataset_from_config(config=config, prefix=\"dataset\")"
   ]
  },
  {
   "cell_type": "code",
   "execution_count": 19,
   "metadata": {},
   "outputs": [
    {
     "data": {
      "text/plain": [
       "tensor([[ 0,  0,  0,  0,  0,  0,  0,  0,  0,  0,  1,  1,  1,  1,  1,  1,  1,  1,\n",
       "          1,  1,  1,  1,  1,  1,  2,  2,  2,  2,  2,  2,  2,  2,  2,  2,  2,  2,\n",
       "          2,  2,  3,  3,  3,  3,  3,  3,  3,  3,  3,  3,  3,  4,  4,  4,  4,  4,\n",
       "          4,  4,  4,  4,  4,  5,  5,  5,  5,  5,  5,  5,  5,  5,  5,  5,  6,  6,\n",
       "          6,  6,  6,  6,  6,  6,  6,  6,  6,  6,  6,  7,  7,  7,  7,  7,  7,  7,\n",
       "          7,  8,  8,  8,  8,  8,  8,  8,  8,  9,  9,  9,  9,  9,  9,  9,  9, 10,\n",
       "         10, 10, 10, 10, 10, 10, 10, 10, 10, 10, 11, 11, 11, 11, 11, 11, 11, 12,\n",
       "         12, 12, 12, 12, 12, 12, 12, 13, 13, 13, 13, 13, 13, 13, 13, 14, 14, 14,\n",
       "         14, 14, 14, 14, 14, 14, 14, 14],\n",
       "        [14,  9,  8, 10,  6,  5,  3,  2,  1,  7,  8, 14, 13, 12, 11,  9,  7, 10,\n",
       "          5,  4,  3,  2,  0,  6, 14, 13, 12, 11, 10,  9,  8,  7,  5,  4,  3,  1,\n",
       "          0,  6, 14, 13, 12, 11, 10,  5,  0,  1,  2,  6,  4, 14, 13, 12, 11, 10,\n",
       "          6,  5,  3,  2,  1, 13, 12, 11, 10, 14,  4,  3,  2,  1,  0,  6, 14, 13,\n",
       "         12, 10,  9,  8,  7,  5,  4,  3,  2,  1,  0,  9, 14, 10,  8,  6,  2,  1,\n",
       "          0, 14, 10,  9,  7,  6,  2,  1,  0, 14, 10,  8,  7,  6,  2,  1,  0, 11,\n",
       "          9,  8,  7,  6,  5,  4,  3,  2,  1,  0, 12, 10,  3,  5,  4,  2,  1, 13,\n",
       "         11,  6,  5,  4,  3,  2,  1, 12, 14,  3,  6,  5,  4,  2,  1,  9,  8,  7,\n",
       "          3,  5,  4,  2,  1,  0, 13,  6]])"
      ]
     },
     "execution_count": 19,
     "metadata": {},
     "output_type": "execute_result"
    }
   ],
   "source": [
    "cg[0][\"edge_index\"]"
   ]
  }
 ],
 "metadata": {
  "kernelspec": {
   "display_name": "deeptb",
   "language": "python",
   "name": "python3"
  },
  "language_info": {
   "codemirror_mode": {
    "name": "ipython",
    "version": 3
   },
   "file_extension": ".py",
   "mimetype": "text/x-python",
   "name": "python",
   "nbconvert_exporter": "python",
   "pygments_lexer": "ipython3",
   "version": "3.8.13"
  }
 },
 "nbformat": 4,
 "nbformat_minor": 2
}
