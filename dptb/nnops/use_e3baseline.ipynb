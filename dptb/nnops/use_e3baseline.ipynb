{
 "cells": [
  {
   "cell_type": "code",
   "execution_count": 1,
   "metadata": {},
   "outputs": [],
   "source": [
    "from loss import HamilLossAnalysis\n",
    "from dptb.data import AtomicData"
   ]
  },
  {
   "cell_type": "code",
   "execution_count": 15,
   "metadata": {},
   "outputs": [],
   "source": [
    "la = HamilLossAnalysis(basis={\"B\":\"1s1p\", \"N\": \"1s1p\"}, decompose=False)"
   ]
  },
  {
   "cell_type": "code",
   "execution_count": 16,
   "metadata": {},
   "outputs": [],
   "source": [
    "from ase.io import read\n",
    "data = AtomicData.from_ase(\n",
    "    atoms=read(\"/root/deeptb/dptb/tests/data/hBN/hBN.vasp\"),\n",
    "    r_max=4.0\n",
    "    ).to_dict()\n",
    "data = la.idp(data)"
   ]
  },
  {
   "cell_type": "code",
   "execution_count": 17,
   "metadata": {},
   "outputs": [],
   "source": [
    "import torch\n",
    "data[\"edge_features\"] = torch.zeros(data[\"edge_index\"].shape[1], 13)\n",
    "data[\"node_features\"] = torch.zeros(data[\"atom_types\"].shape[0], 13)\n",
    "\n",
    "ref_data = data.copy()\n",
    "ref_data[\"edge_features\"] = torch.ones(data[\"edge_index\"].shape[1], 13)\n",
    "ref_data[\"node_features\"] = torch.ones(data[\"atom_types\"].shape[0], 13)"
   ]
  },
  {
   "cell_type": "code",
   "execution_count": 18,
   "metadata": {},
   "outputs": [
    {
     "data": {
      "text/plain": [
       "{'mae': tensor(1.),\n",
       " 'rmse': tensor(1.),\n",
       " 'n_element': 0,\n",
       " 'onsite': {'B': {'rmse': tensor(1.),\n",
       "   'mae': tensor(1.),\n",
       "   'rmse_per_block_element': tensor([1., 1., 1., 1., 1., 1., 1., 1., 1., 1., 1., 1., 1.]),\n",
       "   'mae_per_block_element': tensor([1., 1., 1., 1., 1., 1., 1., 1., 1., 1., 1., 1., 1.]),\n",
       "   'rmse_per_irreps': tensor([1.0000, 1.7321, 1.0000, 1.7321, 2.2361]),\n",
       "   'mae_per_irreps': tensor([1.0000, 1.7321, 1.0000, 1.7321, 2.2361]),\n",
       "   'n_element': 13},\n",
       "  'N': {'rmse': tensor(1.),\n",
       "   'mae': tensor(1.),\n",
       "   'rmse_per_block_element': tensor([1., 1., 1., 1., 1., 1., 1., 1., 1., 1., 1., 1., 1.]),\n",
       "   'mae_per_block_element': tensor([1., 1., 1., 1., 1., 1., 1., 1., 1., 1., 1., 1., 1.]),\n",
       "   'rmse_per_irreps': tensor([1.0000, 1.7321, 1.0000, 1.7321, 2.2361]),\n",
       "   'mae_per_irreps': tensor([1.0000, 1.7321, 1.0000, 1.7321, 2.2361]),\n",
       "   'n_element': 13}},\n",
       " 'hopping': {'B-B': {'rmse': tensor(1.),\n",
       "   'mae': tensor(1.),\n",
       "   'rmse_per_block_element': tensor([1., 1., 1., 1., 1., 1., 1., 1., 1., 1., 1., 1., 1.]),\n",
       "   'mae_per_block_element': tensor([1., 1., 1., 1., 1., 1., 1., 1., 1., 1., 1., 1., 1.]),\n",
       "   'rmse_per_irreps': tensor([1.0000, 1.7321, 1.0000, 1.7321, 2.2361]),\n",
       "   'mae_per_irreps': tensor([1.0000, 1.7321, 1.0000, 1.7321, 2.2361]),\n",
       "   'n_element': 78},\n",
       "  'B-N': {'rmse': tensor(1.),\n",
       "   'mae': tensor(1.),\n",
       "   'rmse_per_block_element': tensor([1., 1., 1., 1., 1., 1., 1., 1., 1., 1., 1., 1., 1.]),\n",
       "   'mae_per_block_element': tensor([1., 1., 1., 1., 1., 1., 1., 1., 1., 1., 1., 1., 1.]),\n",
       "   'rmse_per_irreps': tensor([1.0000, 1.7321, 1.0000, 1.7321, 2.2361]),\n",
       "   'mae_per_irreps': tensor([1.0000, 1.7321, 1.0000, 1.7321, 2.2361]),\n",
       "   'n_element': 156},\n",
       "  'N-B': {'rmse': tensor(1.),\n",
       "   'mae': tensor(1.),\n",
       "   'rmse_per_block_element': tensor([1., 1., 1., 1., 1., 1., 1., 1., 1., 1., 1., 1., 1.]),\n",
       "   'mae_per_block_element': tensor([1., 1., 1., 1., 1., 1., 1., 1., 1., 1., 1., 1., 1.]),\n",
       "   'rmse_per_irreps': tensor([1.0000, 1.7321, 1.0000, 1.7321, 2.2361]),\n",
       "   'mae_per_irreps': tensor([1.0000, 1.7321, 1.0000, 1.7321, 2.2361]),\n",
       "   'n_element': 156},\n",
       "  'N-N': {'rmse': tensor(1.),\n",
       "   'mae': tensor(1.),\n",
       "   'rmse_per_block_element': tensor([1., 1., 1., 1., 1., 1., 1., 1., 1., 1., 1., 1., 1.]),\n",
       "   'mae_per_block_element': tensor([1., 1., 1., 1., 1., 1., 1., 1., 1., 1., 1., 1., 1.]),\n",
       "   'rmse_per_irreps': tensor([1.0000, 1.7321, 1.0000, 1.7321, 2.2361]),\n",
       "   'mae_per_irreps': tensor([1.0000, 1.7321, 1.0000, 1.7321, 2.2361]),\n",
       "   'n_element': 78}}}"
      ]
     },
     "execution_count": 18,
     "metadata": {},
     "output_type": "execute_result"
    }
   ],
   "source": [
    "la(data, ref_data)"
   ]
  },
  {
   "cell_type": "code",
   "execution_count": null,
   "metadata": {},
   "outputs": [],
   "source": []
  }
 ],
 "metadata": {
  "kernelspec": {
   "display_name": "deeptb",
   "language": "python",
   "name": "python3"
  },
  "language_info": {
   "codemirror_mode": {
    "name": "ipython",
    "version": 3
   },
   "file_extension": ".py",
   "mimetype": "text/x-python",
   "name": "python",
   "nbconvert_exporter": "python",
   "pygments_lexer": "ipython3",
   "version": "3.8.13"
  }
 },
 "nbformat": 4,
 "nbformat_minor": 2
}
