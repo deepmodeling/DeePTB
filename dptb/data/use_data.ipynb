{
 "cells": [
  {
   "cell_type": "code",
   "execution_count": 1,
   "metadata": {},
   "outputs": [
    {
     "name": "stderr",
     "output_type": "stream",
     "text": [
      "/opt/miniconda/envs/deeptb/lib/python3.8/site-packages/torch/nested/__init__.py:47: UserWarning: The PyTorch API of nested tensors is in prototype stage and will change in the near future. (Triggered internally at ../aten/src/ATen/NestedTensorImpl.cpp:175.)\n",
      "  nt = torch._nested_tensor_from_tensor_list(new_data, dtype, None, device, pin_memory)\n"
     ]
    }
   ],
   "source": [
    "from dptb.utils.torch_geometric import Data\n",
    "import torch\n",
    "\n",
    "data = Data(x=torch.randn(10,3), edge_index=torch.randint(0, 10, (2,10)), fe=torch.nested.nested_tensor([torch.randn(10,3), torch.randn(10,3)]))"
   ]
  },
  {
   "cell_type": "code",
   "execution_count": 10,
   "metadata": {},
   "outputs": [
    {
     "data": {
      "text/plain": [
       "nested_tensor([\n",
       "  tensor([[-0.8980,  1.5517,  0.6173],\n",
       "          [-0.9263,  1.7326,  0.8377],\n",
       "          [-1.7981, -1.9792,  0.5199],\n",
       "          [ 0.2150, -1.4216, -0.1682],\n",
       "          [-0.2299,  0.2367, -0.6701],\n",
       "          [-0.5820,  0.8229, -0.4034],\n",
       "          [ 0.2771,  0.2464,  2.1399],\n",
       "          [-1.8328,  0.0133, -0.9239],\n",
       "          [-0.8021, -0.2262, -0.2930],\n",
       "          [ 1.7474, -1.1398, -1.2048]], device='cuda:0'),\n",
       "  tensor([[ 0.2287, -0.2875, -1.0089],\n",
       "          [ 1.4052, -0.2078, -0.4727],\n",
       "          [-0.8960,  1.9116, -0.2225],\n",
       "          [ 0.1758,  1.4902,  0.6408],\n",
       "          [-1.6969, -0.8203, -1.1533],\n",
       "          [-0.9147,  0.5500,  1.5237],\n",
       "          [-0.5706, -0.0517, -0.6109],\n",
       "          [-0.8387, -0.1820, -1.1708],\n",
       "          [-2.4404,  1.1044, -1.0515],\n",
       "          [ 0.6899,  0.8555, -0.9393]], device='cuda:0')\n",
       "], device='cuda:0')"
      ]
     },
     "execution_count": 10,
     "metadata": {},
     "output_type": "execute_result"
    }
   ],
   "source": []
  },
  {
   "cell_type": "code",
   "execution_count": 5,
   "metadata": {},
   "outputs": [
    {
     "data": {
      "text/plain": [
       "tensor([[0, 8, 7, 9, 3, 8, 5, 3, 7, 0],\n",
       "        [2, 8, 5, 0, 2, 0, 9, 2, 0, 4]], device='cuda:0')"
      ]
     },
     "execution_count": 5,
     "metadata": {},
     "output_type": "execute_result"
    }
   ],
   "source": [
    "data[\"edge_index\"]"
   ]
  },
  {
   "cell_type": "code",
   "execution_count": 2,
   "metadata": {},
   "outputs": [],
   "source": [
    "config = {\n",
    "    \"root\": \"/root/nequip_data/\",\n",
    "    \"dataset\": \"npz\",\n",
    "    \"dataset_file_name\": \"/root/nequip_data/Si8-100K.npz\",\n",
    "    \"key_mapping\":{\n",
    "        \"pos\":\"pos\",\n",
    "        \"atomic_numbers\":\"atomic_numbers\",\n",
    "        \"kpoints\": \"kpoint\",\n",
    "        \"pbc\": \"pbc\",\n",
    "        \"cell\": \"cell\",\n",
    "        \"eigenvalues\": \"eigenvalue\"\n",
    "    },\n",
    "    \"npz_fixed_field_keys\": [\"kpoint\", \"pbc\"],\n",
    "    \"graph_field\":[\"eigenvalues\"],\n",
    "    \"chemical_symbols\": [\"Si\", \"C\"],\n",
    "    \"r_max\": 6.0\n",
    "}\n",
    "\n",
    "config = Config(config=config)\n",
    "# dataset: npz                                                                       # type of data set, can be npz or ase\n",
    "# dataset_url: http://quantum-machine.org/gdml/data/npz/toluene_ccsd_t.zip           # url to download the npz. optional\n",
    "# dataset_file_name: ./benchmark_data/toluene_ccsd_t-train.npz                       # path to data set file\n",
    "# key_mapping:\n",
    "#   z: atomic_numbers                                                                # atomic species, integers\n",
    "#   E: total_energy                                                                  # total potential eneriges to train to\n",
    "#   F: forces                                                                        # atomic forces to train to\n",
    "#   R: pos                                                                           # raw atomic positions\n",
    "# npz_fixed_field_keys:                                                              # fields that are repeated across different examples\n",
    "#   - atomic_numbers\n",
    "\n",
    "# chemical_symbols:\n",
    "#   - H\n",
    "#   - C"
   ]
  },
  {
   "cell_type": "code",
   "execution_count": 3,
   "metadata": {},
   "outputs": [
    {
     "name": "stderr",
     "output_type": "stream",
     "text": [
      "Processing dataset...\n"
     ]
    },
    {
     "name": "stderr",
     "output_type": "stream",
     "text": [
      "Done!\n"
     ]
    }
   ],
   "source": [
    "dataset = dataset_from_config(config=config, prefix=\"dataset\")\n",
    "\n",
    "from dptb.data.dataloader import DataLoader\n",
    "\n",
    "dl = DataLoader(dataset, 3)\n",
    "\n",
    "data = next(iter(dl))"
   ]
  },
  {
   "cell_type": "code",
   "execution_count": 11,
   "metadata": {},
   "outputs": [
    {
     "data": {
      "text/plain": [
       "tensor([[ 1.,  1., -1.],\n",
       "        [ 1.,  1.,  1.],\n",
       "        [ 0.,  1., -1.],\n",
       "        [ 0.,  1.,  1.],\n",
       "        [ 1.,  0., -1.],\n",
       "        [ 0.,  0., -1.],\n",
       "        [ 1.,  0.,  1.],\n",
       "        [ 0.,  0.,  1.],\n",
       "        [ 0.,  1.,  0.],\n",
       "        [ 1.,  0.,  0.],\n",
       "        [ 0.,  0.,  0.],\n",
       "        [ 1.,  1.,  0.]])"
      ]
     },
     "execution_count": 11,
     "metadata": {},
     "output_type": "execute_result"
    }
   ],
   "source": [
    "\n",
    "dataset[0].edge_cell_shift[dataset[0].edge_index[0].eq(1)&dataset[0].edge_index[1].eq(2)], dataset[0].edge_cell_shift[dataset[0].edge_index[0].eq(1)&dataset[0].edge_index[1].eq(2)]"
   ]
  },
  {
   "cell_type": "code",
   "execution_count": 4,
   "metadata": {},
   "outputs": [
    {
     "data": {
      "text/plain": [
       "tensor([False, False, False, False, False, False, False, False, False, False,\n",
       "         True, False, False, False, False, False, False,  True, False, False,\n",
       "        False, False, False, False, False, False, False, False, False, False,\n",
       "        False, False, False, False, False, False, False, False, False, False,\n",
       "        False, False, False, False, False, False, False, False, False, False,\n",
       "        False, False, False, False, False, False, False, False, False, False,\n",
       "        False, False, False, False, False, False, False, False, False, False,\n",
       "        False, False, False,  True, False, False, False, False, False, False,\n",
       "        False, False, False, False, False, False, False, False, False, False,\n",
       "        False, False, False, False, False, False, False, False, False, False,\n",
       "        False, False, False, False, False, False,  True, False, False, False,\n",
       "        False, False, False, False, False, False, False, False, False,  True,\n",
       "        False, False, False, False, False, False, False,  True, False, False,\n",
       "        False, False, False, False, False, False, False, False, False, False,\n",
       "        False, False, False, False, False, False, False, False, False, False,\n",
       "        False, False, False, False, False, False, False, False, False, False,\n",
       "        False, False, False, False, False, False, False,  True, False,  True,\n",
       "        False, False, False, False, False, False, False, False, False, False,\n",
       "         True, False, False, False, False, False, False, False, False, False,\n",
       "        False, False, False, False, False, False, False, False, False, False,\n",
       "        False, False, False, False, False, False, False, False, False, False,\n",
       "        False, False, False, False, False, False, False,  True, False, False,\n",
       "        False,  True, False, False, False, False, False, False, False, False,\n",
       "        False, False, False, False, False, False, False, False, False, False,\n",
       "        False, False,  True, False, False, False, False, False, False, False,\n",
       "        False, False, False, False, False, False, False, False, False, False,\n",
       "        False, False, False,  True, False, False, False,  True, False, False,\n",
       "        False, False, False, False, False, False, False, False, False, False,\n",
       "        False, False, False, False, False, False, False, False, False,  True,\n",
       "        False, False, False, False, False, False, False, False, False,  True,\n",
       "        False, False, False, False, False, False, False, False, False, False,\n",
       "         True, False, False,  True, False, False, False, False, False, False,\n",
       "        False, False, False, False, False, False, False,  True, False, False,\n",
       "        False, False, False,  True, False, False, False, False, False,  True,\n",
       "        False,  True,  True,  True])"
      ]
     },
     "execution_count": 4,
     "metadata": {},
     "output_type": "execute_result"
    }
   ],
   "source": [
    "dataset[0].edge_index[0].eq(dataset[0].edge_index[1])"
   ]
  },
  {
   "cell_type": "code",
   "execution_count": 7,
   "metadata": {},
   "outputs": [
    {
     "data": {
      "text/plain": [
       "{'C-C': 0, 'C-Si': 1, 'Si-C': 2, 'Si-Si': 3}"
      ]
     },
     "execution_count": 7,
     "metadata": {},
     "output_type": "execute_result"
    }
   ],
   "source": [
    "dataset.type_mapper.bond_to_type"
   ]
  },
  {
   "cell_type": "code",
   "execution_count": 4,
   "metadata": {},
   "outputs": [],
   "source": [
    "from dptb.nn._sktb import SKTB\n",
    "sktb = SKTB(\n",
    "    basis={\"Si\":[\"3s\", \"3p\", \"p*\", \"s*\"], \"C\":[\"2s\",\"2p\"]},\n",
    "    onsite=\"uniform\",\n",
    "    hopping=\"powerlaw\",\n",
    "    overlap=True\n",
    "    )"
   ]
  },
  {
   "cell_type": "code",
   "execution_count": 5,
   "metadata": {},
   "outputs": [],
   "source": [
    "from dptb.data.AtomicDataDict import with_edge_vectors, with_onsitenv_vectors\n",
    "\n",
    "data = with_edge_vectors(data.to_dict())\n",
    "data = with_onsitenv_vectors(data)"
   ]
  },
  {
   "cell_type": "code",
   "execution_count": 6,
   "metadata": {},
   "outputs": [],
   "source": [
    "import torch\n",
    "data[\"atomic_numbers\"] = dataset.type_mapper.untransform(data[\"atom_types\"])"
   ]
  },
  {
   "cell_type": "code",
   "execution_count": 7,
   "metadata": {},
   "outputs": [],
   "source": [
    "data = sktb(data)"
   ]
  },
  {
   "cell_type": "code",
   "execution_count": 11,
   "metadata": {},
   "outputs": [
    {
     "data": {
      "text/plain": [
       "20"
      ]
     },
     "execution_count": 11,
     "metadata": {},
     "output_type": "execute_result"
    }
   ],
   "source": [
    "sktb.idp.edge_reduced_matrix_element"
   ]
  },
  {
   "cell_type": "code",
   "execution_count": 12,
   "metadata": {},
   "outputs": [
    {
     "data": {
      "text/plain": [
       "torch.Size([24, 4])"
      ]
     },
     "execution_count": 12,
     "metadata": {},
     "output_type": "execute_result"
    }
   ],
   "source": [
    "data[\"node_features\"].shape"
   ]
  },
  {
   "cell_type": "code",
   "execution_count": 13,
   "metadata": {},
   "outputs": [],
   "source": [
    "from dptb.nn._hamiltonian import SKHamiltonian\n",
    "\n",
    "skh = SKHamiltonian(basis={\"Si\":[\"3s\", \"3p\", \"p*\", \"s*\"], \"C\":[\"2s\",\"2p\"]})"
   ]
  },
  {
   "cell_type": "code",
   "execution_count": 14,
   "metadata": {},
   "outputs": [],
   "source": [
    "data = skh(data)"
   ]
  },
  {
   "cell_type": "code",
   "execution_count": 16,
   "metadata": {},
   "outputs": [
    {
     "data": {
      "text/plain": [
       "torch.Size([24, 42])"
      ]
     },
     "execution_count": 16,
     "metadata": {},
     "output_type": "execute_result"
    }
   ],
   "source": [
    "data[\"node_features\"].shape"
   ]
  },
  {
   "cell_type": "code",
   "execution_count": 17,
   "metadata": {},
   "outputs": [],
   "source": [
    "from dptb.nn._hamiltonian import E3Hamiltonian\n",
    "e3h = E3Hamiltonian(basis={\"Si\":[\"3s\", \"3p\", \"p*\", \"s*\"], \"C\":[\"2s\",\"2p\"]}, decompose=True)"
   ]
  },
  {
   "cell_type": "code",
   "execution_count": 18,
   "metadata": {},
   "outputs": [],
   "source": [
    "data = e3h(data)"
   ]
  },
  {
   "cell_type": "code",
   "execution_count": 21,
   "metadata": {},
   "outputs": [
    {
     "data": {
      "text/plain": [
       "tensor([ True,  True,  True,  True, False,  True, False, False,  True, False,\n",
       "        False,  True, False, False,  True, False, False,  True, False, False,\n",
       "         True, False, False,  True, False, False,  True, False,  True, False,\n",
       "        False, False, False, False,  True, False, False,  True, False, False,\n",
       "        False, False, False,  True, False, False,  True, False, False, False,\n",
       "        False, False,  True, False, False,  True, False, False, False, False,\n",
       "        False,  True, False, False])"
      ]
     },
     "execution_count": 21,
     "metadata": {},
     "output_type": "execute_result"
    }
   ],
   "source": [
    "data[\"edge_features\"][0].abs().gt(1e-5)"
   ]
  },
  {
   "cell_type": "code",
   "execution_count": 57,
   "metadata": {},
   "outputs": [],
   "source": [
    "from dptb.data.AtomicData import AtomicData\n",
    "from dptb.utils.torch_geometric import Batch\n",
    "\n",
    "bdata = Batch.from_dict(data)"
   ]
  },
  {
   "cell_type": "code",
   "execution_count": 62,
   "metadata": {},
   "outputs": [
    {
     "ename": "RuntimeError",
     "evalue": "Cannot reconstruct data list from batch because the batch object was not created using `Batch.from_data_list()`.",
     "output_type": "error",
     "traceback": [
      "\u001b[0;31m---------------------------------------------------------------------------\u001b[0m",
      "\u001b[0;31mRuntimeError\u001b[0m                              Traceback (most recent call last)",
      "\u001b[1;32m/root/deeptb/dptb/data/use_data.ipynb Cell 13\u001b[0m line \u001b[0;36m1\n\u001b[0;32m----> <a href='vscode-notebook-cell://ssh-remote%2Bdeeptb_dev2/root/deeptb/dptb/data/use_data.ipynb#X20sdnNjb2RlLXJlbW90ZQ%3D%3D?line=0'>1</a>\u001b[0m bdata\u001b[39m.\u001b[39;49mget_example(\u001b[39m0\u001b[39;49m)\n",
      "File \u001b[0;32m/opt/miniconda/envs/deeptb/lib/python3.8/site-packages/dptb/utils/torch_geometric/batch.py:176\u001b[0m, in \u001b[0;36mBatch.get_example\u001b[0;34m(self, idx)\u001b[0m\n\u001b[1;32m    170\u001b[0m \u001b[39mr\u001b[39m\u001b[39m\"\"\"Reconstructs the :class:`torch_geometric.data.Data` object at index\u001b[39;00m\n\u001b[1;32m    171\u001b[0m \u001b[39m:obj:`idx` from the batch object.\u001b[39;00m\n\u001b[1;32m    172\u001b[0m \u001b[39mThe batch object must have been created via :meth:`from_data_list` in\u001b[39;00m\n\u001b[1;32m    173\u001b[0m \u001b[39morder to be able to reconstruct the initial objects.\"\"\"\u001b[39;00m\n\u001b[1;32m    175\u001b[0m \u001b[39mif\u001b[39;00m \u001b[39mself\u001b[39m\u001b[39m.\u001b[39m__slices__ \u001b[39mis\u001b[39;00m \u001b[39mNone\u001b[39;00m:\n\u001b[0;32m--> 176\u001b[0m     \u001b[39mraise\u001b[39;00m \u001b[39mRuntimeError\u001b[39;00m(\n\u001b[1;32m    177\u001b[0m         (\n\u001b[1;32m    178\u001b[0m             \u001b[39m\"\u001b[39m\u001b[39mCannot reconstruct data list from batch because the batch \u001b[39m\u001b[39m\"\u001b[39m\n\u001b[1;32m    179\u001b[0m             \u001b[39m\"\u001b[39m\u001b[39mobject was not created using `Batch.from_data_list()`.\u001b[39m\u001b[39m\"\u001b[39m\n\u001b[1;32m    180\u001b[0m         )\n\u001b[1;32m    181\u001b[0m     )\n\u001b[1;32m    183\u001b[0m data \u001b[39m=\u001b[39m \u001b[39mself\u001b[39m\u001b[39m.\u001b[39m__data_class__()\n\u001b[1;32m    184\u001b[0m idx \u001b[39m=\u001b[39m \u001b[39mself\u001b[39m\u001b[39m.\u001b[39mnum_graphs \u001b[39m+\u001b[39m idx \u001b[39mif\u001b[39;00m idx \u001b[39m<\u001b[39m \u001b[39m0\u001b[39m \u001b[39melse\u001b[39;00m idx\n",
      "\u001b[0;31mRuntimeError\u001b[0m: Cannot reconstruct data list from batch because the batch object was not created using `Batch.from_data_list()`."
     ]
    }
   ],
   "source": []
  },
  {
   "cell_type": "code",
   "execution_count": 8,
   "metadata": {},
   "outputs": [],
   "source": [
    "from dptb.data.transforms import OrbitalMapper\n",
    "\n",
    "idp = OrbitalMapper(basis={\"Si\": \"2s2p1d\", \"C\":\"1s1p1d\"})"
   ]
  },
  {
   "cell_type": "code",
   "execution_count": 15,
   "metadata": {},
   "outputs": [
    {
     "data": {
      "text/plain": [
       "{'1s-1s': slice(0, 1, None),\n",
       " '1s-2s': slice(1, 2, None),\n",
       " '1s-1p': slice(3, 6, None),\n",
       " '1s-2p': slice(6, 9, None),\n",
       " '1s-1d': slice(15, 20, None),\n",
       " '2s-2s': slice(2, 3, None),\n",
       " '2s-1p': slice(9, 12, None),\n",
       " '2s-2p': slice(12, 15, None),\n",
       " '2s-1d': slice(20, 25, None),\n",
       " '1p-1p': slice(25, 34, None),\n",
       " '1p-2p': slice(34, 43, None),\n",
       " '1p-1d': slice(52, 67, None),\n",
       " '2p-2p': slice(43, 52, None),\n",
       " '2p-1d': slice(67, 82, None),\n",
       " '1d-1d': slice(82, 107, None)}"
      ]
     },
     "execution_count": 15,
     "metadata": {},
     "output_type": "execute_result"
    }
   ],
   "source": [
    "idp.get_node_maps()"
   ]
  },
  {
   "cell_type": "code",
   "execution_count": 16,
   "metadata": {},
   "outputs": [
    {
     "data": {
      "text/plain": [
       "{'1s-1s': slice(0, 1, None),\n",
       " '1s-2s': slice(1, 2, None),\n",
       " '1s-1p': slice(3, 6, None),\n",
       " '1s-2p': slice(6, 9, None),\n",
       " '1s-1d': slice(15, 20, None),\n",
       " '2s-2s': slice(2, 3, None),\n",
       " '2s-1p': slice(9, 12, None),\n",
       " '2s-2p': slice(12, 15, None),\n",
       " '2s-1d': slice(20, 25, None),\n",
       " '1p-1p': slice(25, 34, None),\n",
       " '1p-2p': slice(34, 43, None),\n",
       " '1p-1d': slice(52, 67, None),\n",
       " '2p-2p': slice(43, 52, None),\n",
       " '2p-1d': slice(67, 82, None),\n",
       " '1d-1d': slice(82, 107, None)}"
      ]
     },
     "execution_count": 16,
     "metadata": {},
     "output_type": "execute_result"
    }
   ],
   "source": [
    "idp.node_maps"
   ]
  },
  {
   "cell_type": "markdown",
   "metadata": {},
   "source": []
  }
 ],
 "metadata": {
  "kernelspec": {
   "display_name": "deeptb",
   "language": "python",
   "name": "python3"
  },
  "language_info": {
   "codemirror_mode": {
    "name": "ipython",
    "version": 3
   },
   "file_extension": ".py",
   "mimetype": "text/x-python",
   "name": "python",
   "nbconvert_exporter": "python",
   "pygments_lexer": "ipython3",
   "version": "3.8.13"
  }
 },
 "nbformat": 4,
 "nbformat_minor": 2
}
