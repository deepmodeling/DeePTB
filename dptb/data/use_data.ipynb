{
 "cells": [
  {
   "cell_type": "code",
   "execution_count": 1,
   "metadata": {},
   "outputs": [],
   "source": [
    "from _build import dataset_from_config\n",
    "from dptb.utils.config import Config"
   ]
  },
  {
   "cell_type": "code",
   "execution_count": 2,
   "metadata": {},
   "outputs": [],
   "source": [
    "config = {\n",
    "    \"root\": \"/root/nequip_data/\",\n",
    "    \"dataset\": \"npz\",\n",
    "    \"dataset_file_name\": \"/root/nequip_data/Si8-100K.npz\",\n",
    "    # \"include_keys\":[\n",
    "    #     \"kpoints\",\n",
    "    #     \"eigenvalues\"\n",
    "    # ],\n",
    "    \"key_mapping\":{\n",
    "        \"pos\":\"pos\",\n",
    "        \"atomic_numbers\":\"atomic_numbers\",\n",
    "        \"kpoints\": \"kpoint\",\n",
    "        \"pbc\": \"pbc\",\n",
    "        \"cell\": \"cell\",\n",
    "        \"eigenvalues\": \"eigenvalue\"\n",
    "    },\n",
    "    \"npz_fixed_field_keys\": [\"kpoint\", \"pbc\"],\n",
    "    \"graph_field\":[\"eigenvalues\"],\n",
    "    \"chemical_symbols\": [\"Si\", \"C\"],\n",
    "    \"r_max\": 4.0,\n",
    "    \"er_max\": 3.0\n",
    "}\n",
    "\n",
    "config = Config(config=config)\n",
    "# dataset: npz                                                                       # type of data set, can be npz or ase\n",
    "# dataset_url: http://quantum-machine.org/gdml/data/npz/toluene_ccsd_t.zip           # url to download the npz. optional\n",
    "# dataset_file_name: ./benchmark_data/toluene_ccsd_t-train.npz                       # path to data set file\n",
    "# key_mapping:\n",
    "#   z: atomic_numbers                                                                # atomic species, integers\n",
    "#   E: total_energy                                                                  # total potential eneriges to train to\n",
    "#   F: forces                                                                        # atomic forces to train to\n",
    "#   R: pos                                                                           # raw atomic positions\n",
    "# npz_fixed_field_keys:                                                              # fields that are repeated across different examples\n",
    "#   - atomic_numbers\n",
    "\n",
    "# chemical_symbols:\n",
    "#   - H\n",
    "#   - C"
   ]
  },
  {
   "cell_type": "code",
   "execution_count": 3,
   "metadata": {},
   "outputs": [],
   "source": [
    "dataset = dataset_from_config(config=config, prefix=\"dataset\")"
   ]
  },
  {
   "cell_type": "code",
   "execution_count": 8,
   "metadata": {},
   "outputs": [
    {
     "name": "stdout",
     "output_type": "stream",
     "text": [
      "None\n"
     ]
    }
   ],
   "source": [
    "from dataloader import DataLoader\n",
    "for i,x in enumerate(dataset):\n",
    "    dataset[i][\"edge_vectors\"] = x.get_edge_vectors()\n",
    "print(dataset[1][\"edge_vectors\"])\n",
    "loader = DataLoader(dataset, batch_size=3, shuffle=False)"
   ]
  },
  {
   "cell_type": "code",
   "execution_count": 7,
   "metadata": {},
   "outputs": [
    {
     "name": "stdout",
     "output_type": "stream",
     "text": [
      "torch.Size([3, 354, 60])\n"
     ]
    }
   ],
   "source": [
    "import torch\n",
    "from dptb.data.AtomicDataDict import with_edge_vectors\n",
    "for data in loader:\n",
    "    index = torch.arange(0,data.num_edges)[\n",
    "        (data.batch[data.edge_index[0]]==0) + (data.batch[data.edge_index[1]]==0)\n",
    "        ]\n",
    "    \n",
    "    print(data.eigenvalue.shape)\n",
    "    break"
   ]
  },
  {
   "cell_type": "code",
   "execution_count": 10,
   "metadata": {},
   "outputs": [
    {
     "name": "stdout",
     "output_type": "stream",
     "text": [
      "tensor([[ 0,  0,  0,  ..., 23, 23, 23],\n",
      "        [ 1,  6,  2,  ..., 20, 21, 22]])\n"
     ]
    }
   ],
   "source": [
    "from dptb.data.AtomicDataDict import with_edge_vectors\n",
    "for data in loader:\n",
    "    print(data[\"edge_index\"])\n",
    "    break"
   ]
  },
  {
   "cell_type": "code",
   "execution_count": 1,
   "metadata": {},
   "outputs": [],
   "source": [
    "import numpy as np\n",
    "\n",
    "npzdata = np.load(\"/root/nequip_data/toluene_ccsd_t-test.npz\")"
   ]
  },
  {
   "cell_type": "code",
   "execution_count": 2,
   "metadata": {},
   "outputs": [
    {
     "name": "stdout",
     "output_type": "stream",
     "text": [
      "['E', 'name', 'F', 'theory', 'R', 'z', 'type', 'md5']\n"
     ]
    }
   ],
   "source": [
    "print(npzdata.files)\n",
    "\n",
    "deeptb_data = {}"
   ]
  },
  {
   "cell_type": "code",
   "execution_count": 19,
   "metadata": {},
   "outputs": [
    {
     "name": "stdout",
     "output_type": "stream",
     "text": [
      "b'd'\n"
     ]
    }
   ],
   "source": [
    "print(npzdata[\"type\"])"
   ]
  },
  {
   "cell_type": "code",
   "execution_count": 20,
   "metadata": {},
   "outputs": [],
   "source": [
    "from ase import Atoms\n",
    "from ase.io.trajectory import Trajectory\n",
    "import numpy as np\n"
   ]
  },
  {
   "cell_type": "code",
   "execution_count": 21,
   "metadata": {},
   "outputs": [],
   "source": [
    "Traj = Trajectory(\"/data/band/IV/MD/100K/SiC/kpath.0/xdat.traj\")\n",
    "eigenvalues = np.load(\"/data/band/IV/MD/100K/SiC/kpath.0/eigs.npy\")\n",
    "kpoints = np.load(\"/data/band/IV/MD/100K/SiC/kpath.0/kpoints.npy\")"
   ]
  },
  {
   "cell_type": "code",
   "execution_count": 22,
   "metadata": {},
   "outputs": [],
   "source": [
    "import torch\n",
    "cell = []\n",
    "pos = []\n",
    "atomic_numbers = []\n",
    "for i in Traj:\n",
    "    cell.append(i.cell.array)\n",
    "    pos.append(i.positions)\n",
    "    atomic_numbers.append(i.get_atomic_numbers())\n",
    "cell = np.array(cell)\n",
    "pos = np.array(pos)\n",
    "atomic_numbers = np.array(atomic_numbers)\n",
    "    "
   ]
  },
  {
   "cell_type": "code",
   "execution_count": 23,
   "metadata": {},
   "outputs": [],
   "source": [
    "name = \"Si8-100K\"\n",
    "np.savez(\"/root/nequip_data/Si8-100K.npz\", cell=cell, pos=pos, atomic_numbers=atomic_numbers, kpoints=kpoints, eigenvalues=eigenvalues, pbc=[True, True, True])"
   ]
  },
  {
   "cell_type": "code",
   "execution_count": 1,
   "metadata": {},
   "outputs": [],
   "source": [
    "import torch"
   ]
  },
  {
   "cell_type": "code",
   "execution_count": 27,
   "metadata": {},
   "outputs": [
    {
     "name": "stdout",
     "output_type": "stream",
     "text": [
      "0.1382765769958496 0.1777637004852295\n"
     ]
    }
   ],
   "source": [
    "import time\n",
    "\n",
    "start = time.time()\n",
    "na = torch.nested.nested_tensor([torch.randn(3,3) for n in range(12000)])\n",
    "mid = time.time()\n",
    "torch.bmm(na, na)\n",
    "\n",
    "end = time.time()\n",
    "print(mid-start, end-start)"
   ]
  },
  {
   "cell_type": "code",
   "execution_count": null,
   "metadata": {},
   "outputs": [
    {
     "name": "stdout",
     "output_type": "stream",
     "text": [
      "0.1254711151123047\n"
     ]
    }
   ],
   "source": [
    "out = []\n",
    "start = time.time()\n",
    "for n in range(12000):\n",
    "    m = torch.randn(3,3)\n",
    "    out.append(m @ m)\n",
    "\n",
    "end = time.time()\n",
    "print(end-start)"
   ]
  },
  {
   "cell_type": "code",
   "execution_count": 13,
   "metadata": {},
   "outputs": [
    {
     "name": "stdout",
     "output_type": "stream",
     "text": [
      "tensor([[0., 0., 0., 0., 0.],\n",
      "        [0., 0., 0., 0., 0.],\n",
      "        [0., 0., 0., 0., 0.],\n",
      "        [0., 0., 0., 0., 0.],\n",
      "        [0., 0., 0., 0., 0.]])\n",
      "tensor([[0., 0., 0.],\n",
      "        [0., 0., 0.],\n",
      "        [0., 0., 0.]])\n"
     ]
    }
   ],
   "source": [
    "mp = torch.bmm(na, na)\n",
    "print(mp[0] - a @ a)\n",
    "print(mp[1] - b @ b)"
   ]
  },
  {
   "cell_type": "code",
   "execution_count": 17,
   "metadata": {},
   "outputs": [
    {
     "name": "stdout",
     "output_type": "stream",
     "text": [
      "True False\n"
     ]
    }
   ],
   "source": [
    "print(mp.is_nested, a.is_nested)"
   ]
  }
 ],
 "metadata": {
  "kernelspec": {
   "display_name": "deeptb",
   "language": "python",
   "name": "python3"
  },
  "language_info": {
   "codemirror_mode": {
    "name": "ipython",
    "version": 3
   },
   "file_extension": ".py",
   "mimetype": "text/x-python",
   "name": "python",
   "nbconvert_exporter": "python",
   "pygments_lexer": "ipython3",
   "version": "3.8.13"
  }
 },
 "nbformat": 4,
 "nbformat_minor": 2
}
