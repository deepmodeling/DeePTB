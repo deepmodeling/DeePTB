{
 "cells": [
  {
   "cell_type": "code",
   "execution_count": 1,
   "metadata": {},
   "outputs": [],
   "source": [
    "from _build import dataset_from_config\n",
    "from dptb.utils.config import Config"
   ]
  },
  {
   "cell_type": "code",
   "execution_count": 8,
   "metadata": {},
   "outputs": [],
   "source": [
    "config = {\n",
    "    \"root\": \"/root/nequip_data/\",\n",
    "    \"dataset\": \"npz\",\n",
    "    \"dataset_file_name\": \"/root/nequip_data/Si8-100K.npz\",\n",
    "    \"key_mapping\":{\n",
    "        \"pos\":\"pos\",\n",
    "        \"atomic_numbers\":\"atomic_numbers\",\n",
    "        \"kpoints\": \"kpoint\",\n",
    "        \"pbc\": \"pbc\",\n",
    "        \"cell\": \"cell\",\n",
    "        \"eigenvalues\": \"eigenvalue\"\n",
    "    },\n",
    "    \"npz_fixed_field_keys\": [\"kpoint\", \"pbc\"],\n",
    "    \"graph_field\":[\"eigenvalues\"],\n",
    "    \"chemical_symbols\": [\"Si\", \"C\"],\n",
    "    \"r_max\": 4.0\n",
    "}\n",
    "\n",
    "config = Config(config=config)\n",
    "# dataset: npz                                                                       # type of data set, can be npz or ase\n",
    "# dataset_url: http://quantum-machine.org/gdml/data/npz/toluene_ccsd_t.zip           # url to download the npz. optional\n",
    "# dataset_file_name: ./benchmark_data/toluene_ccsd_t-train.npz                       # path to data set file\n",
    "# key_mapping:\n",
    "#   z: atomic_numbers                                                                # atomic species, integers\n",
    "#   E: total_energy                                                                  # total potential eneriges to train to\n",
    "#   F: forces                                                                        # atomic forces to train to\n",
    "#   R: pos                                                                           # raw atomic positions\n",
    "# npz_fixed_field_keys:                                                              # fields that are repeated across different examples\n",
    "#   - atomic_numbers\n",
    "\n",
    "# chemical_symbols:\n",
    "#   - H\n",
    "#   - C"
   ]
  },
  {
   "cell_type": "code",
   "execution_count": 9,
   "metadata": {},
   "outputs": [
    {
     "name": "stdout",
     "output_type": "stream",
     "text": [
      "{'root': '/root/nequip_data/', 'dataset': 'npz', 'dataset_file_name': '/root/nequip_data/Si8-100K.npz', 'key_mapping': {'pos': 'pos', 'atomic_numbers': 'atomic_numbers', 'kpoints': 'kpoint', 'pbc': 'pbc', 'cell': 'cell', 'eigenvalues': 'eigenvalue'}, 'npz_fixed_field_keys': ['kpoint', 'pbc'], 'graph_field': ['eigenvalues'], 'chemical_symbols': ['Si', 'C'], 'r_max': 4.0, 'dataset_AtomicData_options': {'r_max': 4.0, 'er_max': None}}\n"
     ]
    }
   ],
   "source": [
    "dataset = dataset_from_config(config=config, prefix=\"dataset\")"
   ]
  },
  {
   "cell_type": "code",
   "execution_count": 12,
   "metadata": {},
   "outputs": [
    {
     "data": {
      "text/plain": [
       "tensor([[0, 0, 0, 0, 0, 0, 0, 0, 0, 0, 0, 0, 0, 0, 0, 0, 0, 0, 0, 0, 0, 0, 0, 0,\n",
       "         0, 0, 0, 0, 1, 1, 1, 1, 1, 1, 1, 1, 1, 1, 1, 1, 1, 1, 1, 1, 1, 1, 1, 1,\n",
       "         1, 1, 1, 1, 1, 1, 1, 1, 2, 2, 2, 2, 2, 2, 2, 2, 2, 2, 2, 2, 2, 2, 2, 2,\n",
       "         2, 2, 2, 2, 2, 2, 2, 2, 2, 2, 2, 2, 3, 3, 3, 3, 3, 3, 3, 3, 3, 3, 3, 3,\n",
       "         3, 3, 3, 3, 3, 3, 3, 3, 3, 3, 3, 3, 3, 3, 3, 3, 4, 4, 4, 4, 4, 4, 4, 4,\n",
       "         4, 4, 4, 4, 4, 4, 4, 4, 4, 4, 4, 4, 4, 4, 4, 4, 4, 4, 4, 4, 5, 5, 5, 5,\n",
       "         5, 5, 5, 5, 5, 5, 5, 5, 5, 5, 5, 5, 5, 5, 5, 5, 5, 5, 5, 5, 5, 5, 5, 5,\n",
       "         6, 6, 6, 6, 6, 6, 6, 6, 6, 6, 6, 6, 6, 6, 6, 6, 6, 6, 6, 6, 6, 6, 6, 6,\n",
       "         6, 6, 6, 6, 7, 7, 7, 7, 7, 7, 7, 7, 7, 7, 7, 7, 7, 7, 7, 7, 7, 7, 7, 7,\n",
       "         7, 7, 7, 7, 7, 7, 7, 7],\n",
       "        [1, 6, 2, 5, 4, 1, 4, 7, 2, 7, 2, 3, 5, 7, 7, 6, 3, 1, 3, 1, 2, 3, 4, 5,\n",
       "         6, 6, 5, 4, 7, 6, 4, 2, 4, 5, 2, 0, 7, 4, 5, 0, 0, 3, 6, 7, 0, 2, 3, 3,\n",
       "         4, 6, 2, 3, 5, 6, 5, 7, 1, 0, 4, 5, 6, 7, 5, 4, 6, 5, 3, 1, 3, 1, 1, 6,\n",
       "         4, 0, 4, 7, 0, 7, 5, 3, 0, 7, 3, 6, 6, 0, 2, 4, 2, 7, 6, 5, 1, 0, 5, 7,\n",
       "         2, 1, 0, 4, 5, 0, 6, 5, 2, 1, 4, 1, 4, 7, 6, 7, 7, 6, 3, 5, 3, 2, 1, 0,\n",
       "         7, 2, 3, 1, 0, 6, 7, 5, 6, 1, 3, 0, 1, 2, 7, 0, 6, 5, 2, 5, 4, 6, 6, 7,\n",
       "         4, 3, 2, 1, 0, 4, 1, 2, 0, 4, 6, 1, 0, 7, 7, 3, 7, 2, 3, 6, 0, 1, 2, 3,\n",
       "         1, 4, 2, 4, 7, 5, 4, 3, 2, 1, 0, 7, 5, 3, 2, 1, 0, 4, 0, 3, 5, 7, 7, 3,\n",
       "         2, 0, 5, 1, 2, 4, 4, 0, 5, 3, 6, 3, 0, 6, 5, 3, 2, 1, 0, 0, 4, 1, 1, 3,\n",
       "         5, 2, 2, 6, 5, 4, 6, 1]])"
      ]
     },
     "execution_count": 12,
     "metadata": {},
     "output_type": "execute_result"
    }
   ],
   "source": [
    "\n",
    "dataset[0].edge_index"
   ]
  },
  {
   "cell_type": "code",
   "execution_count": 4,
   "metadata": {},
   "outputs": [
    {
     "name": "stdout",
     "output_type": "stream",
     "text": [
      "None\n"
     ]
    }
   ],
   "source": [
    "from dataloader import DataLoader\n",
    "for i,x in enumerate(dataset):\n",
    "    dataset[i][\"edge_vectors\"] = x.get_edge_vectors()\n",
    "print(dataset[1][\"edge_vectors\"])\n",
    "loader = DataLoader(dataset, batch_size=3, shuffle=False)"
   ]
  },
  {
   "cell_type": "code",
   "execution_count": 7,
   "metadata": {},
   "outputs": [
    {
     "name": "stdout",
     "output_type": "stream",
     "text": [
      "torch.Size([3, 354, 60])\n"
     ]
    }
   ],
   "source": [
    "import torch\n",
    "from dptb.data.AtomicDataDict import with_edge_vectors\n",
    "for data in loader:\n",
    "    index = torch.arange(0,data.num_edges)[\n",
    "        (data.batch[data.edge_index[0]]==0) + (data.batch[data.edge_index[1]]==0)\n",
    "        ]\n",
    "    \n",
    "    print(data.eigenvalue.shape)\n",
    "    break"
   ]
  },
  {
   "cell_type": "code",
   "execution_count": 10,
   "metadata": {},
   "outputs": [
    {
     "name": "stdout",
     "output_type": "stream",
     "text": [
      "tensor([[ 0,  0,  0,  ..., 23, 23, 23],\n",
      "        [ 1,  6,  2,  ..., 20, 21, 22]])\n"
     ]
    }
   ],
   "source": [
    "from dptb.data.AtomicDataDict import with_edge_vectors\n",
    "for data in loader:\n",
    "    print(data[\"edge_index\"])\n",
    "    break"
   ]
  },
  {
   "cell_type": "code",
   "execution_count": 1,
   "metadata": {},
   "outputs": [],
   "source": [
    "import numpy as np\n",
    "\n",
    "npzdata = np.load(\"/root/nequip_data/toluene_ccsd_t-test.npz\")"
   ]
  },
  {
   "cell_type": "code",
   "execution_count": 2,
   "metadata": {},
   "outputs": [
    {
     "name": "stdout",
     "output_type": "stream",
     "text": [
      "['E', 'name', 'F', 'theory', 'R', 'z', 'type', 'md5']\n"
     ]
    }
   ],
   "source": [
    "print(npzdata.files)\n",
    "\n",
    "deeptb_data = {}"
   ]
  },
  {
   "cell_type": "code",
   "execution_count": 19,
   "metadata": {},
   "outputs": [
    {
     "name": "stdout",
     "output_type": "stream",
     "text": [
      "b'd'\n"
     ]
    }
   ],
   "source": [
    "print(npzdata[\"type\"])"
   ]
  },
  {
   "cell_type": "code",
   "execution_count": 20,
   "metadata": {},
   "outputs": [],
   "source": [
    "from ase import Atoms\n",
    "from ase.io.trajectory import Trajectory\n",
    "import numpy as np\n"
   ]
  },
  {
   "cell_type": "code",
   "execution_count": 21,
   "metadata": {},
   "outputs": [],
   "source": [
    "Traj = Trajectory(\"/data/band/IV/MD/100K/SiC/kpath.0/xdat.traj\")\n",
    "eigenvalues = np.load(\"/data/band/IV/MD/100K/SiC/kpath.0/eigs.npy\")\n",
    "kpoints = np.load(\"/data/band/IV/MD/100K/SiC/kpath.0/kpoints.npy\")"
   ]
  },
  {
   "cell_type": "code",
   "execution_count": 22,
   "metadata": {},
   "outputs": [],
   "source": [
    "import torch\n",
    "cell = []\n",
    "pos = []\n",
    "atomic_numbers = []\n",
    "for i in Traj:\n",
    "    cell.append(i.cell.array)\n",
    "    pos.append(i.positions)\n",
    "    atomic_numbers.append(i.get_atomic_numbers())\n",
    "cell = np.array(cell)\n",
    "pos = np.array(pos)\n",
    "atomic_numbers = np.array(atomic_numbers)\n",
    "    "
   ]
  },
  {
   "cell_type": "code",
   "execution_count": 23,
   "metadata": {},
   "outputs": [],
   "source": [
    "name = \"Si8-100K\"\n",
    "np.savez(\"/root/nequip_data/Si8-100K.npz\", cell=cell, pos=pos, atomic_numbers=atomic_numbers, kpoints=kpoints, eigenvalues=eigenvalues, pbc=[True, True, True])"
   ]
  },
  {
   "cell_type": "code",
   "execution_count": 1,
   "metadata": {},
   "outputs": [],
   "source": [
    "import torch"
   ]
  },
  {
   "cell_type": "code",
   "execution_count": 11,
   "metadata": {},
   "outputs": [
    {
     "name": "stderr",
     "output_type": "stream",
     "text": [
      "/opt/miniconda/envs/deeptb/lib/python3.8/site-packages/torch/nested/__init__.py:47: UserWarning: The PyTorch API of nested tensors is in prototype stage and will change in the near future. (Triggered internally at ../aten/src/ATen/NestedTensorImpl.cpp:175.)\n",
      "  nt = torch._nested_tensor_from_tensor_list(new_data, dtype, None, device, pin_memory)\n"
     ]
    }
   ],
   "source": [
    "import time\n",
    "import torch\n",
    "\n",
    "a = torch.nested.nested_tensor([torch.randn(3),torch.randn(5),torch.randn(3)])\n"
   ]
  },
  {
   "cell_type": "code",
   "execution_count": 26,
   "metadata": {},
   "outputs": [
    {
     "ename": "TypeError",
     "evalue": "select() received an invalid combination of arguments - got (index=list, dim=int, ), but expected one of:\n * (int dim, int index)\n      didn't match because some of the arguments have invalid types: (dim=int, !index=list!, )\n * (name dim, int index)\n      didn't match because some of the arguments have invalid types: (!dim=int!, !index=list!, )\n",
     "output_type": "error",
     "traceback": [
      "\u001b[0;31m---------------------------------------------------------------------------\u001b[0m",
      "\u001b[0;31mTypeError\u001b[0m                                 Traceback (most recent call last)",
      "\u001b[1;32m/root/deeptb/dptb/data/use_data.ipynb Cell 17\u001b[0m line \u001b[0;36m1\n\u001b[0;32m----> <a href='vscode-notebook-cell://ssh-remote%2Bdeeptb_dev2/root/deeptb/dptb/data/use_data.ipynb#X24sdnNjb2RlLXJlbW90ZQ%3D%3D?line=0'>1</a>\u001b[0m a\u001b[39m.\u001b[39;49mselect(dim\u001b[39m=\u001b[39;49m\u001b[39m0\u001b[39;49m, index\u001b[39m=\u001b[39;49m[\u001b[39m0\u001b[39;49m,\u001b[39m2\u001b[39;49m])\n",
      "\u001b[0;31mTypeError\u001b[0m: select() received an invalid combination of arguments - got (index=list, dim=int, ), but expected one of:\n * (int dim, int index)\n      didn't match because some of the arguments have invalid types: (dim=int, !index=list!, )\n * (name dim, int index)\n      didn't match because some of the arguments have invalid types: (!dim=int!, !index=list!, )\n"
     ]
    }
   ],
   "source": [
    "a.select(dim=0, index=[0,2])"
   ]
  },
  {
   "cell_type": "code",
   "execution_count": 17,
   "metadata": {},
   "outputs": [
    {
     "name": "stdout",
     "output_type": "stream",
     "text": [
      "True False\n"
     ]
    }
   ],
   "source": [
    "print(mp.is_nested, a.is_nested)"
   ]
  }
 ],
 "metadata": {
  "kernelspec": {
   "display_name": "deeptb",
   "language": "python",
   "name": "python3"
  },
  "language_info": {
   "codemirror_mode": {
    "name": "ipython",
    "version": 3
   },
   "file_extension": ".py",
   "mimetype": "text/x-python",
   "name": "python",
   "nbconvert_exporter": "python",
   "pygments_lexer": "ipython3",
   "version": "3.8.13"
  }
 },
 "nbformat": 4,
 "nbformat_minor": 2
}
