{
 "cells": [
  {
   "cell_type": "code",
   "execution_count": null,
   "metadata": {},
   "outputs": [],
   "source": [
    "from dptb.nnops.trainer import Trainer\n",
    "from dptb.nn.build import build_model\n",
    "from dptb.data.build import build_dataset\n",
    "from dptb.plugins.monitor import TrainLossMonitor, LearningRateMonitor, Validationer\n",
    "from dptb.plugins.train_logger import Logger\n",
    "from dptb.utils.argcheck import normalize\n",
    "from dptb.plugins.saver import Saver\n",
    "from typing import Dict, List, Optional, Any\n",
    "from dptb.utils.tools import j_loader, setup_seed, j_must_have\n",
    "from dptb.utils.constants import dtype_dict\n",
    "from dptb.utils.loggers import set_log_handles\n",
    "import heapq\n",
    "import logging\n",
    "import torch\n",
    "import random\n",
    "import numpy as np\n",
    "from pathlib import Path\n",
    "import json\n",
    "import os\n",
    "import time\n",
    "import matplotlib.pyplot as plt"
   ]
  },
  {
   "cell_type": "code",
   "execution_count": null,
   "metadata": {},
   "outputs": [],
   "source": [
    "jdata = j_loader('./input_dftb_env.json')\n",
    "jdata = normalize(jdata)\n",
    "checkpoint = 'dftbenv2/checkpoint/mix.best.pth'\n",
    "f = torch.load(checkpoint)\n",
    "\n",
    "if jdata.get(\"model_options\", None) is None:\n",
    "    jdata[\"model_options\"] = f[\"config\"][\"model_options\"]\n",
    "\n",
    "# update basis\n",
    "basis = f[\"config\"][\"common_options\"][\"basis\"]\n",
    "# nnsk\n",
    "if len(f[\"config\"][\"model_options\"])==1 and f[\"config\"][\"model_options\"].get(\"nnsk\") != None:\n",
    "    for asym, orb in jdata[\"common_options\"][\"basis\"].items():\n",
    "        assert asym in basis.keys(), f\"Atom {asym} not found in model's basis\"\n",
    "        if orb != basis[asym]:\n",
    "            log.info(f\"Initializing Orbital {orb} of Atom {asym} from {basis[asym]}\")\n",
    "    # we have the orbitals in jdata basis correct, now we need to make sure all atom in basis are also contained in jdata basis\n",
    "    for asym, orb in basis.items():\n",
    "        if asym not in jdata[\"common_options\"][\"basis\"].keys():\n",
    "            jdata[\"common_options\"][\"basis\"][asym] = orb # add the atomtype in the checkpoint but not in the jdata basis, because it will be used to build the orbital mapper for dataset\n",
    "else: # not nnsk\n",
    "    for asym, orb in jdata[\"common_options\"][\"basis\"].items():\n",
    "        assert asym in basis.keys(), f\"Atom {asym} not found in model's basis\"\n",
    "        assert orb == basis[asym], f\"Orbital {orb} of Atom {asym} not consistent with the model's basis, which is only allowed in nnsk training\"\n",
    "\n",
    "    jdata[\"common_options\"][\"basis\"] = basis\n",
    "model = build_model(checkpoint=checkpoint, model_options=jdata[\"model_options\"], common_options=jdata[\"common_options\"])"
   ]
  },
  {
   "cell_type": "code",
   "execution_count": null,
   "metadata": {},
   "outputs": [],
   "source": [
    "from dptb.nnops.loss import Loss\n",
    "train_lossfunc = Loss(**jdata['train_options'][\"loss_options\"][\"train\"], **jdata[\"common_options\"], idp=model.hamiltonian.idp)"
   ]
  },
  {
   "cell_type": "code",
   "execution_count": null,
   "metadata": {},
   "outputs": [],
   "source": [
    "from dptb.data import AtomicDataset, DataLoader, AtomicData, AtomicDataDict\n",
    "train_datasets = build_dataset(**jdata[\"data_options\"][\"train\"], **jdata[\"common_options\"])\n",
    "train_loader = DataLoader(dataset=train_datasets, batch_size=jdata['train_options'][\"batch_size\"], shuffle=True)\n",
    "batch =  next(iter(train_loader))\n",
    "batch = AtomicData.to_AtomicDataDict(batch)\n",
    "batch[AtomicDataDict.KPOINT_KEY] = batch[AtomicDataDict.KPOINT_KEY][0]\n",
    "\n",
    "#batch = model(batch)\n",
    "\n",
    "#batch = train_lossfunc.eigenvalue(batch)\n"
   ]
  },
  {
   "cell_type": "code",
   "execution_count": 5,
   "metadata": {},
   "outputs": [],
   "source": [
    "batch = model.nnenv.embedding(batch)\n"
   ]
  },
  {
   "cell_type": "code",
   "execution_count": 6,
   "metadata": {},
   "outputs": [],
   "source": [
    "from ase.io import read\n",
    "from dptb.data import AtomicData, AtomicDataDict\n",
    "\n",
    "stru_data = \"./data/struct.vasp\"\n",
    "AtomicData_options={\"r_max\": 5.0,\n",
    "        \"er_max\": 3.5,\n",
    "        \"oer_max\":1.6,\n",
    "        \"pbc\": True\n",
    "        }\n",
    "#AtomicData_options = {\"r_max\": 5.0,\"er_max\": 3.5, \"oer_max\":1.6, \"pbc\": True}\n",
    "#structase = read(stru_data)\n",
    "#from ase.io.trajectory  import Trajectory\n",
    "#traj = Trajectory('./data/set.0/xdat.traj','r')\n",
    "#structase=traj[0]\n",
    "\n",
    "structase = read('./asestruct2.vasp')\n",
    "structase.positions = structase.positions + np.random.normal(0, 0.01, [3,3])\n",
    "data = AtomicData.from_ase(structase, **AtomicData_options)\n",
    "data = AtomicData.to_AtomicDataDict(data)\n",
    "data = model.idp(data)\n",
    "data[AtomicDataDict.KPOINT_KEY] = torch.as_tensor(np.load('./data/set.0/kpoints.npy'),dtype=torch.float32)\n",
    "#data = model(data)\n",
    "#data = bcal.eigv(data)"
   ]
  },
  {
   "cell_type": "code",
   "execution_count": null,
   "metadata": {},
   "outputs": [],
   "source": [
    "#data = model.nnenv(data)\n",
    "data = model.nnenv.embedding(data)\n"
   ]
  },
  {
   "cell_type": "code",
   "execution_count": 8,
   "metadata": {},
   "outputs": [],
   "source": [
    "env_vectors = batch['env_vectors']\n",
    "env_index = batch['env_index']\n",
    "atom_attr = batch['node_attrs']\n",
    "edge_index = batch['edge_index']\n",
    "edge_length = batch['edge_lengths']\n",
    "n_env = env_index.shape[1]\n",
    "env_attr = atom_attr[env_index].transpose(1,0).reshape(n_env,-1)\n"
   ]
  },
  {
   "cell_type": "code",
   "execution_count": null,
   "metadata": {},
   "outputs": [],
   "source": [
    "env_vectors = data['env_vectors']\n",
    "env_index   = data['env_index']\n",
    "atom_attr   = data['node_attrs']\n",
    "edge_index  = data['edge_index']\n",
    "edge_length = data['edge_lengths']\n",
    "\n",
    "\n",
    "n_env = env_index.shape[1]\n",
    "env_attr = atom_attr[env_index].transpose(1,0).reshape(n_env,-1)"
   ]
  },
  {
   "cell_type": "code",
   "execution_count": 9,
   "metadata": {},
   "outputs": [],
   "source": [
    "se2 = model.nnenv.embedding.descriptor"
   ]
  },
  {
   "cell_type": "code",
   "execution_count": 10,
   "metadata": {},
   "outputs": [],
   "source": [
    "size = se2._check_input(edge_index, size=None)\n",
    "decomposed_layers = 1 if se2.explain else se2.decomposed_layers\n"
   ]
  },
  {
   "cell_type": "code",
   "execution_count": 12,
   "metadata": {},
   "outputs": [],
   "source": [
    "kwargs={'env_vectors':env_vectors, 'env_attr':env_attr}\n",
    "coll_dict = se2._collect(se2._user_args, env_index, size,kwargs)"
   ]
  },
  {
   "cell_type": "code",
   "execution_count": 13,
   "metadata": {},
   "outputs": [],
   "source": [
    "msg_kwargs = se2.inspector.distribute('message', coll_dict)"
   ]
  },
  {
   "cell_type": "code",
   "execution_count": 15,
   "metadata": {},
   "outputs": [],
   "source": [
    "out = se2.message(**msg_kwargs)\n",
    "#out2 = se2.message(**msg_kwargs)"
   ]
  },
  {
   "cell_type": "code",
   "execution_count": 17,
   "metadata": {},
   "outputs": [],
   "source": [
    "rij = env_vectors.norm(dim=-1, keepdim=True)\n",
    "snorm = se2.smooth(rij, 2.5, 3.5)"
   ]
  },
  {
   "cell_type": "code",
   "execution_count": 18,
   "metadata": {},
   "outputs": [],
   "source": [
    "aggr_kwargs = se2.inspector.distribute('aggregate', coll_dict)"
   ]
  },
  {
   "cell_type": "code",
   "execution_count": 20,
   "metadata": {},
   "outputs": [],
   "source": [
    "out = se2.aggregate(out, **aggr_kwargs)\n",
    "#out2 = se2.aggregate(out2, **aggr_kwargs)"
   ]
  },
  {
   "cell_type": "code",
   "execution_count": 21,
   "metadata": {},
   "outputs": [],
   "source": [
    "update_kwargs = se2.inspector.distribute('update', coll_dict)"
   ]
  },
  {
   "cell_type": "code",
   "execution_count": 22,
   "metadata": {},
   "outputs": [],
   "source": [
    "reout2 = torch.bmm(out, out.transpose(1, 2))[:,:,:se2.n_axis].flatten(start_dim=1, end_dim=2)"
   ]
  },
  {
   "cell_type": "code",
   "execution_count": 23,
   "metadata": {},
   "outputs": [
    {
     "data": {
      "text/plain": [
       "tensor([[0.1425],\n",
       "        [0.1841],\n",
       "        [0.1841]], grad_fn=<LinalgVectorNormBackward0>)"
      ]
     },
     "execution_count": 23,
     "metadata": {},
     "output_type": "execute_result"
    }
   ],
   "source": [
    "reout2.norm(dim=1, keepdim=True)"
   ]
  },
  {
   "cell_type": "code",
   "execution_count": 37,
   "metadata": {},
   "outputs": [],
   "source": [
    "iind = env_index[0]\n",
    "jjind = env_index[1]"
   ]
  },
  {
   "cell_type": "code",
   "execution_count": 39,
   "metadata": {},
   "outputs": [
    {
     "data": {
      "text/plain": [
       "tensor([[-3.1841e+00,  0.0000e+00,  0.0000e+00],\n",
       "        [ 1.5920e+00, -2.7575e+00,  0.0000e+00],\n",
       "        [ 1.5497e-06, -1.8383e+00,  1.5636e+00],\n",
       "        [-1.5920e+00, -2.7575e+00,  0.0000e+00],\n",
       "        [-1.5920e+00,  9.1916e-01,  1.5636e+00],\n",
       "        [ 1.5920e+00,  9.1916e-01,  1.5636e+00],\n",
       "        [ 1.5497e-06, -1.8383e+00, -1.5636e+00],\n",
       "        [ 1.5920e+00,  9.1916e-01, -1.5636e+00],\n",
       "        [-1.5920e+00,  9.1916e-01, -1.5636e+00],\n",
       "        [ 3.1841e+00,  0.0000e+00,  0.0000e+00],\n",
       "        [-1.5920e+00,  2.7575e+00,  0.0000e+00],\n",
       "        [ 1.5920e+00,  2.7575e+00,  0.0000e+00]])"
      ]
     },
     "execution_count": 39,
     "metadata": {},
     "output_type": "execute_result"
    }
   ],
   "source": [
    "env_vectors[iind==0]"
   ]
  },
  {
   "cell_type": "code",
   "execution_count": 41,
   "metadata": {},
   "outputs": [
    {
     "data": {
      "text/plain": [
       "tensor([[-3.1841,  0.0000,  0.0000],\n",
       "        [ 1.5920, -2.7575,  0.0000],\n",
       "        [-1.5920, -2.7575,  0.0000],\n",
       "        [ 3.1841,  0.0000,  0.0000],\n",
       "        [-1.5920,  2.7575,  0.0000],\n",
       "        [ 1.5920,  2.7575,  0.0000]])"
      ]
     },
     "execution_count": 41,
     "metadata": {},
     "output_type": "execute_result"
    }
   ],
   "source": [
    "env_vectors[(jjind==0)*(iind==0)]"
   ]
  },
  {
   "cell_type": "code",
   "execution_count": null,
   "metadata": {},
   "outputs": [],
   "source": []
  }
 ],
 "metadata": {
  "kernelspec": {
   "display_name": "pydptb",
   "language": "python",
   "name": "python3"
  },
  "language_info": {
   "codemirror_mode": {
    "name": "ipython",
    "version": 3
   },
   "file_extension": ".py",
   "mimetype": "text/x-python",
   "name": "python",
   "nbconvert_exporter": "python",
   "pygments_lexer": "ipython3",
   "version": "3.9.7"
  }
 },
 "nbformat": 4,
 "nbformat_minor": 2
}
