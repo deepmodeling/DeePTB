{
 "cells": [
  {
   "cell_type": "code",
   "execution_count": 1,
   "metadata": {},
   "outputs": [],
   "source": [
    "from loss import HamilLossAnalysis\n",
    "from dptb.data import AtomicData"
   ]
  },
  {
   "cell_type": "code",
   "execution_count": 2,
   "metadata": {},
   "outputs": [],
   "source": [
    "la = HamilLossAnalysis(basis={\"B\":\"1s1p\", \"N\": \"1s1p\"}, decompose=True)"
   ]
  },
  {
   "cell_type": "code",
   "execution_count": 3,
   "metadata": {},
   "outputs": [],
   "source": [
    "from ase.io import read\n",
    "data = AtomicData.from_ase(\n",
    "    atoms=read(\"/root/deeptb/dptb/tests/data/hBN/hBN.vasp\"),\n",
    "    r_max=4.0\n",
    "    ).to_dict()\n",
    "data = la.idp(data)"
   ]
  },
  {
   "cell_type": "code",
   "execution_count": 4,
   "metadata": {},
   "outputs": [],
   "source": [
    "import torch\n",
    "data[\"edge_features\"] = torch.zeros(data[\"edge_index\"].shape[1], 13)\n",
    "data[\"node_features\"] = torch.zeros(data[\"atom_types\"].shape[0], 13)\n",
    "\n",
    "ref_data = data.copy()\n",
    "ref_data[\"edge_features\"] = torch.ones(data[\"edge_index\"].shape[1], 13)\n",
    "ref_data[\"node_features\"] = torch.ones(data[\"atom_types\"].shape[0], 13)"
   ]
  },
  {
   "cell_type": "code",
   "execution_count": 10,
   "metadata": {},
   "outputs": [
    {
     "data": {
      "text/plain": [
       "{'rmse': tensor(1.0000),\n",
       " 'mae': tensor(0.9514),\n",
       " 'rmse_per_block_element': tensor([1.0000, 1.0000, 1.0000, 1.0000, 0.9787, 1.0000, 0.0923, 1.0000, 1.4838,\n",
       "         1.0000, 1.2136, 1.0000, 0.5992]),\n",
       " 'mae_per_block_element': tensor([1.0000, 1.0000, 1.0000, 1.0000, 0.9787, 1.0000, 0.0923, 1.0000, 1.4838,\n",
       "         1.0000, 1.2136, 1.0000, 0.5992]),\n",
       " 'rmse_per_irreps': tensor([1.0000, 1.7321, 0.9787, 1.4172, 2.4563]),\n",
       " 'mae_per_irreps': tensor([1.0000, 1.7321, 0.9787, 1.4172, 2.4563]),\n",
       " 'n_element': 78}"
      ]
     },
     "execution_count": 10,
     "metadata": {},
     "output_type": "execute_result"
    }
   ],
   "source": [
    "la(data, ref_data)[\"hopping\"][\"N-N\"]"
   ]
  },
  {
   "cell_type": "code",
   "execution_count": null,
   "metadata": {},
   "outputs": [],
   "source": []
  }
 ],
 "metadata": {
  "kernelspec": {
   "display_name": "deeptb",
   "language": "python",
   "name": "python3"
  },
  "language_info": {
   "codemirror_mode": {
    "name": "ipython",
    "version": 3
   },
   "file_extension": ".py",
   "mimetype": "text/x-python",
   "name": "python",
   "nbconvert_exporter": "python",
   "pygments_lexer": "ipython3",
   "version": "3.8.13"
  }
 },
 "nbformat": 4,
 "nbformat_minor": 2
}
